{
 "cells": [
  {
   "cell_type": "code",
   "execution_count": 19,
   "id": "0845aa56",
   "metadata": {},
   "outputs": [],
   "source": [
    "import numpy as np\n",
    "import pandas as pd\n",
    "import datetime\n",
    "\n",
    "from sklearn.neural_network import MLPRegressor\n",
    "\n",
    "from sklearn.metrics import mean_squared_error\n",
    "from sklearn import metrics\n",
    "from sklearn.model_selection import GridSearchCV"
   ]
  },
  {
   "cell_type": "code",
   "execution_count": 24,
   "id": "966eb598",
   "metadata": {},
   "outputs": [],
   "source": [
    "#-----------------READ DATA----------------\n",
    "datafilename = 'DATA/MockDATA.csv'\n",
    "\n",
    "Data = pd.read_csv(datafilename)[['cp_flag','date','exdate','delta','impl_volatility']] #try using more features later\n",
    "Data['date'] = pd.to_datetime(Data['date'])\n",
    "Data['exdate'] = pd.to_datetime(Data['exdate'])\n",
    "# Data drop puts\n",
    "Data = Data.drop(Data[Data['cp_flag'] == 'P'].index)\n",
    "\n",
    "# sdate = datetime.datetime(2019,4,13)\n",
    "# edate = datetime.datetime(2019,4,20)\n",
    "\n",
    "\n",
    "# Data = Data[Data['date'] < edate] #change this line if we need more complicated set of data\n",
    "# Data = Data[Data['date'] >= sdate]\n",
    "\n",
    "Data['time_to_maturity'] = (Data['exdate']-Data['date']).astype('int64')/10**9/3600/24\n",
    "Data = Data.dropna()\n",
    "\n",
    "Data\n",
    "Data = Data.dropna()\n",
    "\n",
    "Data = Data.sort_values(by='date')\n",
    "Data['impl_volatility'] = np.log(Data['impl_volatility'])"
   ]
  },
  {
   "cell_type": "code",
   "execution_count": 26,
   "id": "d0945833",
   "metadata": {},
   "outputs": [],
   "source": [
    "#Train Test Split\n",
    "\n",
    "rate = 0.2\n",
    "rows, columns = Data.shape\n",
    "num = round(rows*(1-rate))\n",
    "\n",
    "idx = Data.index\n",
    "train = Data.loc[idx[0:num]]\n",
    "test = Data.loc[idx[num:]]\n",
    "\n",
    "\n",
    "\n",
    "X_train = train[['delta','time_to_maturity']]\n",
    "X_test = test[['delta','time_to_maturity']]\n",
    "\n",
    "y_train = train['impl_volatility']\n",
    "y_test = test['impl_volatility']"
   ]
  },
  {
   "cell_type": "raw",
   "id": "0f0b15b3",
   "metadata": {},
   "source": [
    "### This part of the code was run with the smaller dataset 'MockDATA_10percent.csv' to find optimal parameters for the Regressor\n",
    "\n",
    "\n",
    "neural_net = MLPRegressor()\n",
    "\n",
    "# pgrid = {\n",
    "#     'hidden_layer_sizes': [(150,100,50), (120,80,40), (100,50,30)],\n",
    "#     'max_iter': [50, 100],\n",
    "#     'activation': ['tanh', 'relu'],\n",
    "#     'solver': ['sgd', 'adam'],\n",
    "#     'alpha': [0.0001, 0.05],\n",
    "#     'learning_rate': ['constant','adaptive'],\n",
    "# }\n",
    "\n",
    "pgrid = {\n",
    "    'hidden_layer_sizes': [(150,100,50), (100,50,30),(100,50,10)],\n",
    "    'max_iter': [200, 300,600],\n",
    "    'activation': ['tanh', 'relu'],\n",
    "#   'solver': ['sgd', 'adam']\n",
    "    'solver': ['adam'],\n",
    "    'learning_rate': ['constant','adaptive'],\n",
    "}\n",
    "\n",
    "grid_search = GridSearchCV(estimator= neural_net, param_grid=pgrid, n_jobs= -1, cv=5, verbose=3)\n",
    "grid_search.fit(X_train.values, y_train.values)\n",
    "\n",
    "bestneural = grid_search.best_estimator_\n",
    "print(grid_search.best_params_)\n",
    "\n",
    "# best so far: {'activation': 'tanh', 'hidden_layer_sizes': (100, 50, 10), 'learning_rate': 'constant', 'max_iter': 600, 'solver': 'adam'}\n",
    "\n",
    "\n",
    "\n",
    "#fitting on the training set\n",
    "\n",
    "y_p_neur = bestneural.predict(X_test.values)\n",
    "\n",
    "goodness = mean_squared_error(y_p_neur,y_test)\n",
    "\n",
    "print(goodness)\n",
    "print(grid_search.best_params_)\n",
    "\n",
    "#The optimal parameters were: {'activation': 'tanh', 'hidden_layer_sizes': (150, 100, 50), 'max_iter': 200, 'solver': 'adam'}"
   ]
  },
  {
   "cell_type": "code",
   "execution_count": 27,
   "id": "9d8cd886",
   "metadata": {},
   "outputs": [
    {
     "data": {
      "text/plain": [
       "0.08816669325587453"
      ]
     },
     "execution_count": 27,
     "metadata": {},
     "output_type": "execute_result"
    }
   ],
   "source": [
    "bestneural = MLPRegressor(hidden_layer_sizes=(100,50,10),\n",
    "                                          max_iter= 600, activation = 'tanh',\n",
    "                                          solver='adam', learning_rate= 'constant')\n",
    "\n",
    "\n",
    "bestneural.fit(X_train.values, y_train.values)\n",
    "\n",
    "y_p_neur = bestneural.predict(X_test.values)\n",
    "\n",
    "metrics.mean_squared_error(y_p_neur,y_test)"
   ]
  },
  {
   "cell_type": "code",
   "execution_count": 28,
   "id": "e47a5f9e",
   "metadata": {},
   "outputs": [],
   "source": [
    "from matplotlib import interactive\n",
    "\n",
    "import matplotlib.pyplot as plt\n",
    "from matplotlib import cm\n",
    "#from mpl_toolkits.mplot3d import Axes3D\n",
    "#Plot the fitting result\n",
    "interactive(True)\n",
    "#delta = 0.1, 0., 15, 0.2, 0.25, 0.3, 0.35, . . . , 0.9\n",
    "#time to expiry of 1, 2, 3, 4, 8, 12, 18, 52, 104 weeks. \n",
    "D = np.linspace(-1, 1, 41, endpoint=True)\n",
    "T = np.array([1,2,3,4,8,12,18,52,104,156])\n",
    "T_days = T*7 #over time_to_maturity is in days\n",
    "\n",
    "dd,tt = np.meshgrid(D,T_days)\n",
    "\n",
    "\n",
    "X_plot = np.array([dd.flatten(), tt.flatten()]).T\n",
    "\n",
    "y_plot = bestneural.predict(X_plot)\n",
    "\n",
    "z = y_plot.reshape(dd.shape)"
   ]
  },
  {
   "cell_type": "code",
   "execution_count": 29,
   "id": "c785f578",
   "metadata": {},
   "outputs": [],
   "source": [
    "\n",
    "xd_test = np.array(X_test['delta'])\n",
    "xt_test = np.array(X_test['time_to_maturity'])\n",
    "\n",
    "test_z = np.array(y_test)\n",
    "\n",
    "\n",
    "xd_train = np.array(X_train['delta'])\n",
    "xt_train = np.array(X_train['time_to_maturity'])\n",
    "\n",
    "train_z = np.array(y_train)"
   ]
  },
  {
   "cell_type": "code",
   "execution_count": 30,
   "id": "01400410",
   "metadata": {},
   "outputs": [],
   "source": [
    "%matplotlib qt \n",
    "fig = plt.figure()\n",
    "ax = fig.add_subplot(111, projection='3d')\n",
    "\n",
    "ax.plot_surface(dd,tt, z,cmap =cm.coolwarm)\n",
    "\n",
    "\n",
    "ax.scatter(xd_train, xt_train, train_z, color='green')\n",
    "ax.scatter(xd_test, xt_test, test_z, color='red')\n",
    "\n",
    "ax.set_xlabel('delta')\n",
    "ax.set_ylabel('time to maturity')\n",
    "ax.set_zlabel('Volatility');\n",
    "\n",
    "plt.show()"
   ]
  }
 ],
 "metadata": {
  "kernelspec": {
   "display_name": "Python 3 (ipykernel)",
   "language": "python",
   "name": "python3"
  },
  "language_info": {
   "codemirror_mode": {
    "name": "ipython",
    "version": 3
   },
   "file_extension": ".py",
   "mimetype": "text/x-python",
   "name": "python",
   "nbconvert_exporter": "python",
   "pygments_lexer": "ipython3",
   "version": "3.11.2"
  }
 },
 "nbformat": 4,
 "nbformat_minor": 5
}
